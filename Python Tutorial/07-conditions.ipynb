{
 "cells": [
  {
   "cell_type": "markdown",
   "metadata": {},
   "source": [
    "Python uses boolean variables to evaluate conditions. The boolean values True and False are returned when an expression is compared or evaluated. For example:"
   ]
  },
  {
   "cell_type": "code",
   "execution_count": 1,
   "metadata": {},
   "outputs": [
    {
     "name": "stdout",
     "output_type": "stream",
     "text": [
      "True\n",
      "False\n",
      "True\n"
     ]
    }
   ],
   "source": [
    "x = 2\n",
    "print(x == 2) # prints out True\n",
    "print(x == 3) # prints out False\n",
    "print(x < 3) # prints out True"
   ]
  },
  {
   "cell_type": "code",
   "execution_count": 7,
   "metadata": {},
   "outputs": [
    {
     "name": "stdout",
     "output_type": "stream",
     "text": [
      "Your name is Pradeep, and you are 25 years old.\n"
     ]
    }
   ],
   "source": [
    "# Boolean Operators\n",
    "\n",
    "name = \"Pradeep\"\n",
    "age = 25\n",
    "\n",
    "if name == \"Pradeep\" and age == 25:\n",
    "    print(\"Your name is Pradeep, and you are 25 years old.\")\n",
    "    \n",
    "if name == \"Pradeep\" and name == \"Sam\":\n",
    "    print(\"Your name is either Pradeep or Sam.\")"
   ]
  },
  {
   "cell_type": "code",
   "execution_count": 8,
   "metadata": {},
   "outputs": [
    {
     "name": "stdout",
     "output_type": "stream",
     "text": [
      "Your name is either Pradeep or Sam.\n"
     ]
    }
   ],
   "source": [
    "# in operator\n",
    "\n",
    "name = \"Pradeep\"\n",
    "if name in [\"Pradeep\", \"Sam\"]:\n",
    "    print(\"Your name is either Pradeep or Sam.\")"
   ]
  },
  {
   "cell_type": "markdown",
   "metadata": {},
   "source": [
    "Some Notes:\n",
    "- Python uses indentation to define code blocks, instead of brackets. \n",
    "- The standard Python indentation is 4 spaces, although tabs and any other space size will work, as long as it is consistent. \n",
    "- Remember that code blocks do not need any termination.    "
   ]
  },
  {
   "cell_type": "code",
   "execution_count": 11,
   "metadata": {},
   "outputs": [
    {
     "name": "stdout",
     "output_type": "stream",
     "text": [
      "x is not qual to 2:(\n"
     ]
    }
   ],
   "source": [
    "# if else statement\n",
    "\n",
    "x = 4\n",
    "if x == 2:\n",
    "    print(\"x is equal to 2 :)\")\n",
    "else:\n",
    "    print('x is not qual to 2:(')"
   ]
  },
  {
   "cell_type": "code",
   "execution_count": null,
   "metadata": {
    "collapsed": true
   },
   "outputs": [],
   "source": []
  }
 ],
 "metadata": {
  "kernelspec": {
   "display_name": "Python 3",
   "language": "python",
   "name": "python3"
  },
  "language_info": {
   "codemirror_mode": {
    "name": "ipython",
    "version": 3
   },
   "file_extension": ".py",
   "mimetype": "text/x-python",
   "name": "python",
   "nbconvert_exporter": "python",
   "pygments_lexer": "ipython3",
   "version": "3.6.3"
  }
 },
 "nbformat": 4,
 "nbformat_minor": 2
}
