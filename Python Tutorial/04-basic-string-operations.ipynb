{
 "cells": [
  {
   "cell_type": "markdown",
   "metadata": {},
   "source": [
    "Strings are bits of text. They can be defined as anything between quotes:"
   ]
  },
  {
   "cell_type": "code",
   "execution_count": 1,
   "metadata": {},
   "outputs": [
    {
     "name": "stdout",
     "output_type": "stream",
     "text": [
      "Hello world!\n",
      "Hello world!\n"
     ]
    }
   ],
   "source": [
    "string1 = \"Hello world!\"\n",
    "string2 = 'Hello world!'\n",
    "\n",
    "print(string1)\n",
    "print(string2)"
   ]
  },
  {
   "cell_type": "code",
   "execution_count": 3,
   "metadata": {},
   "outputs": [
    {
     "name": "stdout",
     "output_type": "stream",
     "text": [
      "single quotes are ' '\n",
      "12\n"
     ]
    }
   ],
   "source": [
    "string3 = \"Hello world!\"\n",
    "print(\"single quotes are ' '\")\n",
    "# string lenght\n",
    "print(len(string3))"
   ]
  },
  {
   "cell_type": "code",
   "execution_count": 7,
   "metadata": {},
   "outputs": [
    {
     "name": "stdout",
     "output_type": "stream",
     "text": [
      "3\n",
      "21\n"
     ]
    }
   ],
   "source": [
    "# string index and count\n",
    "string4 = \"Hey, Hi, Hello, What's up?\"\n",
    "print(string4.count(\"H\"))\n",
    "print(string4.index(\"s\"))"
   ]
  },
  {
   "cell_type": "code",
   "execution_count": 16,
   "metadata": {},
   "outputs": [
    {
     "name": "stdout",
     "output_type": "stream",
     "text": [
      "ey, Hi\n",
      ",H,Hlo\n",
      "?pu s'tahW ,olleH ,iH ,yeH\n",
      "He \n"
     ]
    }
   ],
   "source": [
    "string4 = \"Hey, Hi, Hello, What's up?\"\n",
    "print(string4[1:7])\n",
    "print(string4[3:15:2])\n",
    "print(string4[::-1])\n",
    "print(string4[5:20:5])"
   ]
  },
  {
   "cell_type": "code",
   "execution_count": 17,
   "metadata": {},
   "outputs": [
    {
     "name": "stdout",
     "output_type": "stream",
     "text": [
      "HELLO WORLD!\n",
      "hello world!\n"
     ]
    }
   ],
   "source": [
    "# upper and lower case\n",
    "string5 = \"Hello world!\"\n",
    "print(string5.upper())\n",
    "print(string5.lower())"
   ]
  },
  {
   "cell_type": "code",
   "execution_count": 18,
   "metadata": {},
   "outputs": [
    {
     "name": "stdout",
     "output_type": "stream",
     "text": [
      "True\n",
      "False\n"
     ]
    }
   ],
   "source": [
    "string6 = \"Hello My name is Pradeep.\"\n",
    "print(astring.startswith(\"Hello\"))\n",
    "print(astring.endswith(\"Who are you?\"))"
   ]
  },
  {
   "cell_type": "code",
   "execution_count": 22,
   "metadata": {},
   "outputs": [
    {
     "name": "stdout",
     "output_type": "stream",
     "text": [
      "['Hello', 'My', 'name', 'is', 'Pradeep.']\n"
     ]
    }
   ],
   "source": [
    "# split the string into bunch of strings grouped together in a list.\n",
    "string6 = \"Hello My name is Pradeep.\"\n",
    "afewwords = string6.split(\" \")\n",
    "print(afewwords)"
   ]
  },
  {
   "cell_type": "code",
   "execution_count": null,
   "metadata": {
    "collapsed": true
   },
   "outputs": [],
   "source": []
  }
 ],
 "metadata": {
  "kernelspec": {
   "display_name": "Python 3",
   "language": "python",
   "name": "python3"
  },
  "language_info": {
   "codemirror_mode": {
    "name": "ipython",
    "version": 3
   },
   "file_extension": ".py",
   "mimetype": "text/x-python",
   "name": "python",
   "nbconvert_exporter": "python",
   "pygments_lexer": "ipython3",
   "version": "3.6.3"
  }
 },
 "nbformat": 4,
 "nbformat_minor": 2
}
